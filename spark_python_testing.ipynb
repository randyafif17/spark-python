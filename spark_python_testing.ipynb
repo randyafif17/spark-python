{
  "nbformat": 4,
  "nbformat_minor": 0,
  "metadata": {
    "colab": {
      "provenance": []
    },
    "kernelspec": {
      "name": "python3",
      "display_name": "Python 3"
    },
    "language_info": {
      "name": "python"
    }
  },
  "cells": [
    {
      "cell_type": "code",
      "execution_count": 6,
      "metadata": {
        "colab": {
          "base_uri": "https://localhost:8080/"
        },
        "id": "GBOqYSQSEbBQ",
        "outputId": "2937b052-b6a3-4d69-8104-a6a44eb7f430"
      },
      "outputs": [
        {
          "output_type": "stream",
          "name": "stdout",
          "text": [
            "Collecting pyspark\n",
            "  Downloading pyspark-3.4.1.tar.gz (310.8 MB)\n",
            "\u001b[2K     \u001b[90m━━━━━━━━━━━━━━━━━━━━━━━━━━━━━━━━━━━━━━━\u001b[0m \u001b[32m310.8/310.8 MB\u001b[0m \u001b[31m4.6 MB/s\u001b[0m eta \u001b[36m0:00:00\u001b[0m\n",
            "\u001b[?25h  Preparing metadata (setup.py) ... \u001b[?25l\u001b[?25hdone\n",
            "Requirement already satisfied: py4j==0.10.9.7 in /usr/local/lib/python3.10/dist-packages (from pyspark) (0.10.9.7)\n",
            "Building wheels for collected packages: pyspark\n",
            "  Building wheel for pyspark (setup.py) ... \u001b[?25l\u001b[?25hdone\n",
            "  Created wheel for pyspark: filename=pyspark-3.4.1-py2.py3-none-any.whl size=311285387 sha256=4f02deb0c49e630e661dbf1880dfebc1b9aa2a5df9cee01c21554ffd51ff5956\n",
            "  Stored in directory: /root/.cache/pip/wheels/0d/77/a3/ff2f74cc9ab41f8f594dabf0579c2a7c6de920d584206e0834\n",
            "Successfully built pyspark\n",
            "Installing collected packages: pyspark\n",
            "Successfully installed pyspark-3.4.1\n"
          ]
        }
      ],
      "source": [
        "!pip install pyspark"
      ]
    },
    {
      "cell_type": "code",
      "source": [
        "from google.colab import files\n",
        "\n",
        "uploaded = files.upload()"
      ],
      "metadata": {
        "colab": {
          "base_uri": "https://localhost:8080/",
          "height": 73
        },
        "id": "huR7cNs3YLWV",
        "outputId": "2481dadb-6eb9-4854-ee75-760eadeddf99"
      },
      "execution_count": 4,
      "outputs": [
        {
          "output_type": "display_data",
          "data": {
            "text/plain": [
              "<IPython.core.display.HTML object>"
            ],
            "text/html": [
              "\n",
              "     <input type=\"file\" id=\"files-9189d583-a85e-436b-95f8-9e698d895b35\" name=\"files[]\" multiple disabled\n",
              "        style=\"border:none\" />\n",
              "     <output id=\"result-9189d583-a85e-436b-95f8-9e698d895b35\">\n",
              "      Upload widget is only available when the cell has been executed in the\n",
              "      current browser session. Please rerun this cell to enable.\n",
              "      </output>\n",
              "      <script>// Copyright 2017 Google LLC\n",
              "//\n",
              "// Licensed under the Apache License, Version 2.0 (the \"License\");\n",
              "// you may not use this file except in compliance with the License.\n",
              "// You may obtain a copy of the License at\n",
              "//\n",
              "//      http://www.apache.org/licenses/LICENSE-2.0\n",
              "//\n",
              "// Unless required by applicable law or agreed to in writing, software\n",
              "// distributed under the License is distributed on an \"AS IS\" BASIS,\n",
              "// WITHOUT WARRANTIES OR CONDITIONS OF ANY KIND, either express or implied.\n",
              "// See the License for the specific language governing permissions and\n",
              "// limitations under the License.\n",
              "\n",
              "/**\n",
              " * @fileoverview Helpers for google.colab Python module.\n",
              " */\n",
              "(function(scope) {\n",
              "function span(text, styleAttributes = {}) {\n",
              "  const element = document.createElement('span');\n",
              "  element.textContent = text;\n",
              "  for (const key of Object.keys(styleAttributes)) {\n",
              "    element.style[key] = styleAttributes[key];\n",
              "  }\n",
              "  return element;\n",
              "}\n",
              "\n",
              "// Max number of bytes which will be uploaded at a time.\n",
              "const MAX_PAYLOAD_SIZE = 100 * 1024;\n",
              "\n",
              "function _uploadFiles(inputId, outputId) {\n",
              "  const steps = uploadFilesStep(inputId, outputId);\n",
              "  const outputElement = document.getElementById(outputId);\n",
              "  // Cache steps on the outputElement to make it available for the next call\n",
              "  // to uploadFilesContinue from Python.\n",
              "  outputElement.steps = steps;\n",
              "\n",
              "  return _uploadFilesContinue(outputId);\n",
              "}\n",
              "\n",
              "// This is roughly an async generator (not supported in the browser yet),\n",
              "// where there are multiple asynchronous steps and the Python side is going\n",
              "// to poll for completion of each step.\n",
              "// This uses a Promise to block the python side on completion of each step,\n",
              "// then passes the result of the previous step as the input to the next step.\n",
              "function _uploadFilesContinue(outputId) {\n",
              "  const outputElement = document.getElementById(outputId);\n",
              "  const steps = outputElement.steps;\n",
              "\n",
              "  const next = steps.next(outputElement.lastPromiseValue);\n",
              "  return Promise.resolve(next.value.promise).then((value) => {\n",
              "    // Cache the last promise value to make it available to the next\n",
              "    // step of the generator.\n",
              "    outputElement.lastPromiseValue = value;\n",
              "    return next.value.response;\n",
              "  });\n",
              "}\n",
              "\n",
              "/**\n",
              " * Generator function which is called between each async step of the upload\n",
              " * process.\n",
              " * @param {string} inputId Element ID of the input file picker element.\n",
              " * @param {string} outputId Element ID of the output display.\n",
              " * @return {!Iterable<!Object>} Iterable of next steps.\n",
              " */\n",
              "function* uploadFilesStep(inputId, outputId) {\n",
              "  const inputElement = document.getElementById(inputId);\n",
              "  inputElement.disabled = false;\n",
              "\n",
              "  const outputElement = document.getElementById(outputId);\n",
              "  outputElement.innerHTML = '';\n",
              "\n",
              "  const pickedPromise = new Promise((resolve) => {\n",
              "    inputElement.addEventListener('change', (e) => {\n",
              "      resolve(e.target.files);\n",
              "    });\n",
              "  });\n",
              "\n",
              "  const cancel = document.createElement('button');\n",
              "  inputElement.parentElement.appendChild(cancel);\n",
              "  cancel.textContent = 'Cancel upload';\n",
              "  const cancelPromise = new Promise((resolve) => {\n",
              "    cancel.onclick = () => {\n",
              "      resolve(null);\n",
              "    };\n",
              "  });\n",
              "\n",
              "  // Wait for the user to pick the files.\n",
              "  const files = yield {\n",
              "    promise: Promise.race([pickedPromise, cancelPromise]),\n",
              "    response: {\n",
              "      action: 'starting',\n",
              "    }\n",
              "  };\n",
              "\n",
              "  cancel.remove();\n",
              "\n",
              "  // Disable the input element since further picks are not allowed.\n",
              "  inputElement.disabled = true;\n",
              "\n",
              "  if (!files) {\n",
              "    return {\n",
              "      response: {\n",
              "        action: 'complete',\n",
              "      }\n",
              "    };\n",
              "  }\n",
              "\n",
              "  for (const file of files) {\n",
              "    const li = document.createElement('li');\n",
              "    li.append(span(file.name, {fontWeight: 'bold'}));\n",
              "    li.append(span(\n",
              "        `(${file.type || 'n/a'}) - ${file.size} bytes, ` +\n",
              "        `last modified: ${\n",
              "            file.lastModifiedDate ? file.lastModifiedDate.toLocaleDateString() :\n",
              "                                    'n/a'} - `));\n",
              "    const percent = span('0% done');\n",
              "    li.appendChild(percent);\n",
              "\n",
              "    outputElement.appendChild(li);\n",
              "\n",
              "    const fileDataPromise = new Promise((resolve) => {\n",
              "      const reader = new FileReader();\n",
              "      reader.onload = (e) => {\n",
              "        resolve(e.target.result);\n",
              "      };\n",
              "      reader.readAsArrayBuffer(file);\n",
              "    });\n",
              "    // Wait for the data to be ready.\n",
              "    let fileData = yield {\n",
              "      promise: fileDataPromise,\n",
              "      response: {\n",
              "        action: 'continue',\n",
              "      }\n",
              "    };\n",
              "\n",
              "    // Use a chunked sending to avoid message size limits. See b/62115660.\n",
              "    let position = 0;\n",
              "    do {\n",
              "      const length = Math.min(fileData.byteLength - position, MAX_PAYLOAD_SIZE);\n",
              "      const chunk = new Uint8Array(fileData, position, length);\n",
              "      position += length;\n",
              "\n",
              "      const base64 = btoa(String.fromCharCode.apply(null, chunk));\n",
              "      yield {\n",
              "        response: {\n",
              "          action: 'append',\n",
              "          file: file.name,\n",
              "          data: base64,\n",
              "        },\n",
              "      };\n",
              "\n",
              "      let percentDone = fileData.byteLength === 0 ?\n",
              "          100 :\n",
              "          Math.round((position / fileData.byteLength) * 100);\n",
              "      percent.textContent = `${percentDone}% done`;\n",
              "\n",
              "    } while (position < fileData.byteLength);\n",
              "  }\n",
              "\n",
              "  // All done.\n",
              "  yield {\n",
              "    response: {\n",
              "      action: 'complete',\n",
              "    }\n",
              "  };\n",
              "}\n",
              "\n",
              "scope.google = scope.google || {};\n",
              "scope.google.colab = scope.google.colab || {};\n",
              "scope.google.colab._files = {\n",
              "  _uploadFiles,\n",
              "  _uploadFilesContinue,\n",
              "};\n",
              "})(self);\n",
              "</script> "
            ]
          },
          "metadata": {}
        },
        {
          "output_type": "stream",
          "name": "stdout",
          "text": [
            "Saving train.csv to train.csv\n"
          ]
        }
      ]
    },
    {
      "cell_type": "code",
      "source": [
        "from pyspark.sql import SparkSession\n",
        "from pyspark import SparkContext, SparkFiles\n",
        "\n",
        "sc = SparkContext.getOrCreate()\n",
        "spark = SparkSession(sc)\n",
        "\n",
        "\n",
        "# Initialize Spark\n",
        "spark = SparkSession.builder \\\n",
        "    .appName(\"Python Spark Practice\") \\\n",
        "    .getOrCreate()\n",
        "\n",
        "data = [123, 254, 133, 4, 5321, 556, 7567, 78, 69, 10, 100]\n",
        "rdd = spark.sparkContext.parallelize(data)\n",
        "\n",
        "# Sum\n",
        "rdd_sum = rdd.reduce(lambda a, b: a + b)\n",
        "print(f\"Sum: {rdd_sum}\")\n",
        "\n",
        "# Count\n",
        "rdd_count = rdd.count()\n",
        "print(f\"Count: {rdd_count}\")\n",
        "\n",
        "data = [\n",
        "  ('James','','Smith','1991-04-01','M',3000),\n",
        "  ('Michael','Rose','','2000-05-19','M',4000),\n",
        "  ('Robert','','Williams','1978-09-05','M',4000),\n",
        "  ('Maria','Anne','Jones','1967-12-01','F',4000),\n",
        "  ('Jen','Mary','Brown','1980-02-17','F',-1)\n",
        "]\n",
        "\n",
        "columns = [\"firstname\", \"middlename\", \"lastname\", \"dob\", \"gender\", \"salary\"]\n",
        "df = spark.createDataFrame(data=data, schema = columns)\n",
        "df.show()\n",
        "\n",
        "df.createOrReplaceTempView(\"people\")\n",
        "result = spark.sql(\"SELECT * FROM people WHERE salary > 3500\")\n",
        "result.show()"
      ],
      "metadata": {
        "colab": {
          "base_uri": "https://localhost:8080/"
        },
        "id": "Tg5zanoREy-y",
        "outputId": "c277db57-7570-4b29-86c3-afe02f71834d"
      },
      "execution_count": 35,
      "outputs": [
        {
          "output_type": "stream",
          "name": "stdout",
          "text": [
            "Sum: 14215\n",
            "Count: 11\n",
            "+---------+----------+--------+----------+------+------+\n",
            "|firstname|middlename|lastname|       dob|gender|salary|\n",
            "+---------+----------+--------+----------+------+------+\n",
            "|    James|          |   Smith|1991-04-01|     M|  3000|\n",
            "|  Michael|      Rose|        |2000-05-19|     M|  4000|\n",
            "|   Robert|          |Williams|1978-09-05|     M|  4000|\n",
            "|    Maria|      Anne|   Jones|1967-12-01|     F|  4000|\n",
            "|      Jen|      Mary|   Brown|1980-02-17|     F|    -1|\n",
            "+---------+----------+--------+----------+------+------+\n",
            "\n",
            "+---------+----------+--------+----------+------+------+\n",
            "|firstname|middlename|lastname|       dob|gender|salary|\n",
            "+---------+----------+--------+----------+------+------+\n",
            "|  Michael|      Rose|        |2000-05-19|     M|  4000|\n",
            "|   Robert|          |Williams|1978-09-05|     M|  4000|\n",
            "|    Maria|      Anne|   Jones|1967-12-01|     F|  4000|\n",
            "+---------+----------+--------+----------+------+------+\n",
            "\n"
          ]
        }
      ]
    },
    {
      "cell_type": "code",
      "source": [
        "from pyspark import SparkFiles\n",
        "from pyspark.sql import SparkSession\n",
        "\n",
        "# Create a DataFrame based on the CSV file\n",
        "df = spark.read.csv((\"train.csv\"), header=True, inferSchema=True)\n",
        "\n",
        "# Show the DataFrame\n",
        "df.show()"
      ],
      "metadata": {
        "colab": {
          "base_uri": "https://localhost:8080/"
        },
        "id": "tcOYKBxGZUNk",
        "outputId": "8f006f27-c2e7-4c60-e541-46b4aadaab4e"
      },
      "execution_count": 39,
      "outputs": [
        {
          "output_type": "stream",
          "name": "stdout",
          "text": [
            "+------+--------------+----------+----------+--------------+-----------+------------------+-----------+-------------+---------------+--------------+-----------+-------+---------------+---------------+------------+--------------------+--------+\n",
            "|Row ID|      Order ID|Order Date| Ship Date|     Ship Mode|Customer ID|     Customer Name|    Segment|      Country|           City|         State|Postal Code| Region|     Product ID|       Category|Sub-Category|        Product Name|   Sales|\n",
            "+------+--------------+----------+----------+--------------+-----------+------------------+-----------+-------------+---------------+--------------+-----------+-------+---------------+---------------+------------+--------------------+--------+\n",
            "|     1|CA-2017-152156|08/11/2017|11/11/2017|  Second Class|   CG-12520|       Claire Gute|   Consumer|United States|      Henderson|      Kentucky|      42420|  South|FUR-BO-10001798|      Furniture|   Bookcases|Bush Somerset Col...|  261.96|\n",
            "|     2|CA-2017-152156|08/11/2017|11/11/2017|  Second Class|   CG-12520|       Claire Gute|   Consumer|United States|      Henderson|      Kentucky|      42420|  South|FUR-CH-10000454|      Furniture|      Chairs|Hon Deluxe Fabric...|  731.94|\n",
            "|     3|CA-2017-138688|12/06/2017|16/06/2017|  Second Class|   DV-13045|   Darrin Van Huff|  Corporate|United States|    Los Angeles|    California|      90036|   West|OFF-LA-10000240|Office Supplies|      Labels|Self-Adhesive Add...|   14.62|\n",
            "|     4|US-2016-108966|11/10/2016|18/10/2016|Standard Class|   SO-20335|    Sean O'Donnell|   Consumer|United States|Fort Lauderdale|       Florida|      33311|  South|FUR-TA-10000577|      Furniture|      Tables|Bretford CR4500 S...|957.5775|\n",
            "|     5|US-2016-108966|11/10/2016|18/10/2016|Standard Class|   SO-20335|    Sean O'Donnell|   Consumer|United States|Fort Lauderdale|       Florida|      33311|  South|OFF-ST-10000760|Office Supplies|     Storage|Eldon Fold 'N Rol...|  22.368|\n",
            "|     6|CA-2015-115812|09/06/2015|14/06/2015|Standard Class|   BH-11710|   Brosina Hoffman|   Consumer|United States|    Los Angeles|    California|      90032|   West|FUR-FU-10001487|      Furniture| Furnishings|Eldon Expressions...|   48.86|\n",
            "|     7|CA-2015-115812|09/06/2015|14/06/2015|Standard Class|   BH-11710|   Brosina Hoffman|   Consumer|United States|    Los Angeles|    California|      90032|   West|OFF-AR-10002833|Office Supplies|         Art|          Newell 322|    7.28|\n",
            "|     8|CA-2015-115812|09/06/2015|14/06/2015|Standard Class|   BH-11710|   Brosina Hoffman|   Consumer|United States|    Los Angeles|    California|      90032|   West|TEC-PH-10002275|     Technology|      Phones|Mitel 5320 IP Pho...| 907.152|\n",
            "|     9|CA-2015-115812|09/06/2015|14/06/2015|Standard Class|   BH-11710|   Brosina Hoffman|   Consumer|United States|    Los Angeles|    California|      90032|   West|OFF-BI-10003910|Office Supplies|     Binders|DXL Angle-View Bi...|  18.504|\n",
            "|    10|CA-2015-115812|09/06/2015|14/06/2015|Standard Class|   BH-11710|   Brosina Hoffman|   Consumer|United States|    Los Angeles|    California|      90032|   West|OFF-AP-10002892|Office Supplies|  Appliances|Belkin F5C206VTEL...|   114.9|\n",
            "|    11|CA-2015-115812|09/06/2015|14/06/2015|Standard Class|   BH-11710|   Brosina Hoffman|   Consumer|United States|    Los Angeles|    California|      90032|   West|FUR-TA-10001539|      Furniture|      Tables|Chromcraft Rectan...|1706.184|\n",
            "|    12|CA-2015-115812|09/06/2015|14/06/2015|Standard Class|   BH-11710|   Brosina Hoffman|   Consumer|United States|    Los Angeles|    California|      90032|   West|TEC-PH-10002033|     Technology|      Phones|Konftel 250 Confe...| 911.424|\n",
            "|    13|CA-2018-114412|15/04/2018|20/04/2018|Standard Class|   AA-10480|      Andrew Allen|   Consumer|United States|        Concord|North Carolina|      28027|  South|OFF-PA-10002365|Office Supplies|       Paper|          Xerox 1967|  15.552|\n",
            "|    14|CA-2017-161389|05/12/2017|10/12/2017|Standard Class|   IM-15070|      Irene Maddox|   Consumer|United States|        Seattle|    Washington|      98103|   West|OFF-BI-10003656|Office Supplies|     Binders|Fellowes PB200 Pl...| 407.976|\n",
            "|    15|US-2016-118983|22/11/2016|26/11/2016|Standard Class|   HP-14815|     Harold Pawlan|Home Office|United States|     Fort Worth|         Texas|      76106|Central|OFF-AP-10002311|Office Supplies|  Appliances|Holmes Replacemen...|   68.81|\n",
            "|    16|US-2016-118983|22/11/2016|26/11/2016|Standard Class|   HP-14815|     Harold Pawlan|Home Office|United States|     Fort Worth|         Texas|      76106|Central|OFF-BI-10000756|Office Supplies|     Binders|Storex DuraTech R...|   2.544|\n",
            "|    17|CA-2015-105893|11/11/2015|18/11/2015|Standard Class|   PK-19075|         Pete Kriz|   Consumer|United States|        Madison|     Wisconsin|      53711|Central|OFF-ST-10004186|Office Supplies|     Storage|\"Stur-D-Stor Shel...|  665.88|\n",
            "|    18|CA-2015-167164|13/05/2015|15/05/2015|  Second Class|   AG-10270|   Alejandro Grove|   Consumer|United States|    West Jordan|          Utah|      84084|   West|OFF-ST-10000107|Office Supplies|     Storage|Fellowes Super St...|    55.5|\n",
            "|    19|CA-2015-143336|27/08/2015|01/09/2015|  Second Class|   ZD-21925|Zuschuss Donatelli|   Consumer|United States|  San Francisco|    California|      94109|   West|OFF-AR-10003056|Office Supplies|         Art|          Newell 341|    8.56|\n",
            "|    20|CA-2015-143336|27/08/2015|01/09/2015|  Second Class|   ZD-21925|Zuschuss Donatelli|   Consumer|United States|  San Francisco|    California|      94109|   West|TEC-PH-10001949|     Technology|      Phones|Cisco SPA 501G IP...|  213.48|\n",
            "+------+--------------+----------+----------+--------------+-----------+------------------+-----------+-------------+---------------+--------------+-----------+-------+---------------+---------------+------------+--------------------+--------+\n",
            "only showing top 20 rows\n",
            "\n"
          ]
        }
      ]
    },
    {
      "cell_type": "code",
      "source": [
        "# Print the schema of DataFrame\n",
        "df.printSchema()"
      ],
      "metadata": {
        "colab": {
          "base_uri": "https://localhost:8080/"
        },
        "id": "_mcEqoqXfnUZ",
        "outputId": "7add4f6c-d024-4281-8bee-c29c7a04fa32"
      },
      "execution_count": 40,
      "outputs": [
        {
          "output_type": "stream",
          "name": "stdout",
          "text": [
            "root\n",
            " |-- Row ID: integer (nullable = true)\n",
            " |-- Order ID: string (nullable = true)\n",
            " |-- Order Date: string (nullable = true)\n",
            " |-- Ship Date: string (nullable = true)\n",
            " |-- Ship Mode: string (nullable = true)\n",
            " |-- Customer ID: string (nullable = true)\n",
            " |-- Customer Name: string (nullable = true)\n",
            " |-- Segment: string (nullable = true)\n",
            " |-- Country: string (nullable = true)\n",
            " |-- City: string (nullable = true)\n",
            " |-- State: string (nullable = true)\n",
            " |-- Postal Code: integer (nullable = true)\n",
            " |-- Region: string (nullable = true)\n",
            " |-- Product ID: string (nullable = true)\n",
            " |-- Category: string (nullable = true)\n",
            " |-- Sub-Category: string (nullable = true)\n",
            " |-- Product Name: string (nullable = true)\n",
            " |-- Sales: string (nullable = true)\n",
            "\n"
          ]
        }
      ]
    },
    {
      "cell_type": "code",
      "source": [
        "df.select('Product Name','sales').show(10)"
      ],
      "metadata": {
        "colab": {
          "base_uri": "https://localhost:8080/"
        },
        "id": "VbWR1DvTfiNl",
        "outputId": "5678663e-a980-4e4e-ebb7-4e52021a7ac8"
      },
      "execution_count": 41,
      "outputs": [
        {
          "output_type": "stream",
          "name": "stdout",
          "text": [
            "+--------------------+--------+\n",
            "|        Product Name|   sales|\n",
            "+--------------------+--------+\n",
            "|Bush Somerset Col...|  261.96|\n",
            "|Hon Deluxe Fabric...|  731.94|\n",
            "|Self-Adhesive Add...|   14.62|\n",
            "|Bretford CR4500 S...|957.5775|\n",
            "|Eldon Fold 'N Rol...|  22.368|\n",
            "|Eldon Expressions...|   48.86|\n",
            "|          Newell 322|    7.28|\n",
            "|Mitel 5320 IP Pho...| 907.152|\n",
            "|DXL Angle-View Bi...|  18.504|\n",
            "|Belkin F5C206VTEL...|   114.9|\n",
            "+--------------------+--------+\n",
            "only showing top 10 rows\n",
            "\n"
          ]
        }
      ]
    },
    {
      "cell_type": "code",
      "source": [
        "df.groupBy(\"Category\").count().sort(\"count\",ascending=True).show()\n"
      ],
      "metadata": {
        "colab": {
          "base_uri": "https://localhost:8080/"
        },
        "id": "BSjsV0tYfeOK",
        "outputId": "1c24d10f-5068-407c-b7b4-9e4aa8b095a6"
      },
      "execution_count": 49,
      "outputs": [
        {
          "output_type": "stream",
          "name": "stdout",
          "text": [
            "+---------------+-----+\n",
            "|       Category|count|\n",
            "+---------------+-----+\n",
            "|     Technology| 1813|\n",
            "|      Furniture| 2078|\n",
            "|Office Supplies| 5909|\n",
            "+---------------+-----+\n",
            "\n"
          ]
        }
      ]
    },
    {
      "cell_type": "code",
      "source": [
        "df.describe().show()"
      ],
      "metadata": {
        "colab": {
          "base_uri": "https://localhost:8080/"
        },
        "id": "QXOX97XTfa7t",
        "outputId": "7a2b5c13-2c8b-462b-c012-8595af3c7117"
      },
      "execution_count": 43,
      "outputs": [
        {
          "output_type": "stream",
          "name": "stdout",
          "text": [
            "+-------+------------------+--------------+----------+----------+--------------+-----------+------------------+-----------+-------------+--------+-------+------------------+-------+---------------+----------+------------+--------------------+-----------------+\n",
            "|summary|            Row ID|      Order ID|Order Date| Ship Date|     Ship Mode|Customer ID|     Customer Name|    Segment|      Country|    City|  State|       Postal Code| Region|     Product ID|  Category|Sub-Category|        Product Name|            Sales|\n",
            "+-------+------------------+--------------+----------+----------+--------------+-----------+------------------+-----------+-------------+--------+-------+------------------+-------+---------------+----------+------------+--------------------+-----------------+\n",
            "|  count|              9800|          9800|      9800|      9800|          9800|       9800|              9800|       9800|         9800|    9800|   9800|              9789|   9800|           9800|      9800|        9800|                9800|             9800|\n",
            "|   mean|            4900.5|          null|      null|      null|          null|       null|              null|       null|         null|    null|   null|55273.322402696904|   null|           null|      null|        null|                null|235.2895627576727|\n",
            "| stddev|2829.1606529145706|          null|      null|      null|          null|       null|              null|       null|         null|    null|   null|32041.223412813004|   null|           null|      null|        null|                null| 635.178384045279|\n",
            "|    min|                 1|CA-2015-100006|01/01/2018|01/01/2016|   First Class|   AA-10315|     Aaron Bergman|   Consumer|United States|Aberdeen|Alabama|              1040|Central|FUR-BO-10000112| Furniture| Accessories|\"\"\"While you Were...|         10/Pack\"|\n",
            "|    max|              9800|US-2018-169551|31/12/2017|31/12/2018|Standard Class|   ZD-21925|Zuschuss Donatelli|Home Office|United States|    Yuma|Wyoming|             99301|   West|TEC-PH-10004977|Technology|      Tables|netTALK DUO VoIP ...|           999.98|\n",
            "+-------+------------------+--------------+----------+----------+--------------+-----------+------------------+-----------+-------------+--------+-------+------------------+-------+---------------+----------+------------+--------------------+-----------------+\n",
            "\n"
          ]
        }
      ]
    },
    {
      "cell_type": "code",
      "source": [
        "df.describe('sales').show()"
      ],
      "metadata": {
        "colab": {
          "base_uri": "https://localhost:8080/"
        },
        "id": "olEM9hEyfW1c",
        "outputId": "6bb91ec0-9e24-48b6-8b86-1de3f92c98c3"
      },
      "execution_count": 44,
      "outputs": [
        {
          "output_type": "stream",
          "name": "stdout",
          "text": [
            "+-------+-----------------+\n",
            "|summary|            sales|\n",
            "+-------+-----------------+\n",
            "|  count|             9800|\n",
            "|   mean|235.2895627576727|\n",
            "| stddev| 635.178384045279|\n",
            "|    min|         10/Pack\"|\n",
            "|    max|           999.98|\n",
            "+-------+-----------------+\n",
            "\n"
          ]
        }
      ]
    },
    {
      "cell_type": "code",
      "source": [
        "df.crosstab('Ship Mode', 'Segment').show()"
      ],
      "metadata": {
        "colab": {
          "base_uri": "https://localhost:8080/"
        },
        "id": "fJBkbMwffSV2",
        "outputId": "0a324fb6-c331-475a-bb0a-0255ae32d356"
      },
      "execution_count": 45,
      "outputs": [
        {
          "output_type": "stream",
          "name": "stdout",
          "text": [
            "+-----------------+--------+---------+-----------+\n",
            "|Ship Mode_Segment|Consumer|Corporate|Home Office|\n",
            "+-----------------+--------+---------+-----------+\n",
            "|      First Class|     755|      468|        278|\n",
            "|         Same Day|     312|      114|        112|\n",
            "|     Second Class|    1003|      589|        310|\n",
            "|   Standard Class|    3031|     1782|       1046|\n",
            "+-----------------+--------+---------+-----------+\n",
            "\n"
          ]
        }
      ]
    },
    {
      "cell_type": "code",
      "source": [
        "df.drop('Sub-Category').columns"
      ],
      "metadata": {
        "colab": {
          "base_uri": "https://localhost:8080/"
        },
        "id": "qxi8DrkufDr2",
        "outputId": "3f07cc27-3d10-4e2c-8f90-196a922a312f"
      },
      "execution_count": 46,
      "outputs": [
        {
          "output_type": "execute_result",
          "data": {
            "text/plain": [
              "['Row ID',\n",
              " 'Order ID',\n",
              " 'Order Date',\n",
              " 'Ship Date',\n",
              " 'Ship Mode',\n",
              " 'Customer ID',\n",
              " 'Customer Name',\n",
              " 'Segment',\n",
              " 'Country',\n",
              " 'City',\n",
              " 'State',\n",
              " 'Postal Code',\n",
              " 'Region',\n",
              " 'Product ID',\n",
              " 'Category',\n",
              " 'Product Name',\n",
              " 'Sales']"
            ]
          },
          "metadata": {},
          "execution_count": 46
        }
      ]
    },
    {
      "cell_type": "code",
      "source": [
        "df.filter(df.Sales > 100).count()"
      ],
      "metadata": {
        "colab": {
          "base_uri": "https://localhost:8080/"
        },
        "id": "RdJEE3PCe-Vh",
        "outputId": "eb80c85c-67fe-42ff-9811-f6b8a11df58f"
      },
      "execution_count": 47,
      "outputs": [
        {
          "output_type": "execute_result",
          "data": {
            "text/plain": [
              "3620"
            ]
          },
          "metadata": {},
          "execution_count": 47
        }
      ]
    },
    {
      "cell_type": "code",
      "source": [
        "df.groupby('State').agg({'Sales': 'mean'}).show()"
      ],
      "metadata": {
        "colab": {
          "base_uri": "https://localhost:8080/"
        },
        "id": "cMkiFXLDelwd",
        "outputId": "cc805d92-d540-4138-f043-07fbde18a6ce"
      },
      "execution_count": 48,
      "outputs": [
        {
          "output_type": "stream",
          "name": "stdout",
          "text": [
            "+--------------------+------------------+\n",
            "|               State|        avg(Sales)|\n",
            "+--------------------+------------------+\n",
            "|                Utah|225.00076595744676|\n",
            "|           Minnesota|  335.541011235955|\n",
            "|                Ohio|167.02240681818168|\n",
            "|              Oregon|145.21537288135588|\n",
            "|            Arkansas|194.83372881355928|\n",
            "|               Texas|176.23768121720886|\n",
            "|        North Dakota|131.41571428571427|\n",
            "|        Pennsylvania|208.14217967332127|\n",
            "|         Connecticut|166.47246249999995|\n",
            "|            Nebraska|201.27810810810803|\n",
            "|             Vermont|  811.760909090909|\n",
            "|              Nevada| 437.9711052631578|\n",
            "|          Washington| 274.5479422680412|\n",
            "|            Illinois| 168.0456924731181|\n",
            "|            Oklahoma| 294.4946153846153|\n",
            "|District of Columbia|286.50199999999995|\n",
            "|            Delaware| 302.3381910112359|\n",
            "|          New Mexico|129.28437837837836|\n",
            "|       West Virginia|           302.456|\n",
            "|            Missouri| 353.4083606557377|\n",
            "+--------------------+------------------+\n",
            "only showing top 20 rows\n",
            "\n"
          ]
        }
      ]
    }
  ]
}